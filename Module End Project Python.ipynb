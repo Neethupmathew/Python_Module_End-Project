{
 "cells": [
  {
   "cell_type": "code",
   "execution_count": null,
   "id": "be126508-13b8-4510-91b1-d4899a8e091c",
   "metadata": {},
   "outputs": [],
   "source": [
    "#Providing a dataset of employees working in a company. It consists of 458 rows and 9 columns. \n",
    "#The company needs the detailed report and explanation of their employees in each team.\n",
    "#The data consist of Name of the employee, Team, Age Height, Weight, College, Salary.\n",
    "#Height coloumn has wrong entries, it  should updated. "
   ]
  },
  {
   "cell_type": "code",
   "execution_count": 3,
   "id": "e75252b3-dafe-4451-8a88-7976f363923b",
   "metadata": {},
   "outputs": [
    {
     "data": {
      "text/html": [
       "<div>\n",
       "<style scoped>\n",
       "    .dataframe tbody tr th:only-of-type {\n",
       "        vertical-align: middle;\n",
       "    }\n",
       "\n",
       "    .dataframe tbody tr th {\n",
       "        vertical-align: top;\n",
       "    }\n",
       "\n",
       "    .dataframe thead th {\n",
       "        text-align: right;\n",
       "    }\n",
       "</style>\n",
       "<table border=\"1\" class=\"dataframe\">\n",
       "  <thead>\n",
       "    <tr style=\"text-align: right;\">\n",
       "      <th></th>\n",
       "      <th>Name</th>\n",
       "      <th>Team</th>\n",
       "      <th>Number</th>\n",
       "      <th>Position</th>\n",
       "      <th>Age</th>\n",
       "      <th>Height</th>\n",
       "      <th>Weight</th>\n",
       "      <th>College</th>\n",
       "      <th>Salary</th>\n",
       "    </tr>\n",
       "  </thead>\n",
       "  <tbody>\n",
       "    <tr>\n",
       "      <th>0</th>\n",
       "      <td>Avery Bradley</td>\n",
       "      <td>Boston Celtics</td>\n",
       "      <td>0</td>\n",
       "      <td>PG</td>\n",
       "      <td>25</td>\n",
       "      <td>06-Feb</td>\n",
       "      <td>180</td>\n",
       "      <td>Texas</td>\n",
       "      <td>7730337.0</td>\n",
       "    </tr>\n",
       "    <tr>\n",
       "      <th>1</th>\n",
       "      <td>Jae Crowder</td>\n",
       "      <td>Boston Celtics</td>\n",
       "      <td>99</td>\n",
       "      <td>SF</td>\n",
       "      <td>25</td>\n",
       "      <td>06-Jun</td>\n",
       "      <td>235</td>\n",
       "      <td>Marquette</td>\n",
       "      <td>6796117.0</td>\n",
       "    </tr>\n",
       "    <tr>\n",
       "      <th>2</th>\n",
       "      <td>John Holland</td>\n",
       "      <td>Boston Celtics</td>\n",
       "      <td>30</td>\n",
       "      <td>SG</td>\n",
       "      <td>27</td>\n",
       "      <td>06-May</td>\n",
       "      <td>205</td>\n",
       "      <td>Boston University</td>\n",
       "      <td>NaN</td>\n",
       "    </tr>\n",
       "    <tr>\n",
       "      <th>3</th>\n",
       "      <td>R.J. Hunter</td>\n",
       "      <td>Boston Celtics</td>\n",
       "      <td>28</td>\n",
       "      <td>SG</td>\n",
       "      <td>22</td>\n",
       "      <td>06-May</td>\n",
       "      <td>185</td>\n",
       "      <td>Georgia State</td>\n",
       "      <td>1148640.0</td>\n",
       "    </tr>\n",
       "    <tr>\n",
       "      <th>4</th>\n",
       "      <td>Jonas Jerebko</td>\n",
       "      <td>Boston Celtics</td>\n",
       "      <td>8</td>\n",
       "      <td>PF</td>\n",
       "      <td>29</td>\n",
       "      <td>06-Oct</td>\n",
       "      <td>231</td>\n",
       "      <td>NaN</td>\n",
       "      <td>5000000.0</td>\n",
       "    </tr>\n",
       "    <tr>\n",
       "      <th>...</th>\n",
       "      <td>...</td>\n",
       "      <td>...</td>\n",
       "      <td>...</td>\n",
       "      <td>...</td>\n",
       "      <td>...</td>\n",
       "      <td>...</td>\n",
       "      <td>...</td>\n",
       "      <td>...</td>\n",
       "      <td>...</td>\n",
       "    </tr>\n",
       "    <tr>\n",
       "      <th>453</th>\n",
       "      <td>Shelvin Mack</td>\n",
       "      <td>Utah Jazz</td>\n",
       "      <td>8</td>\n",
       "      <td>PG</td>\n",
       "      <td>26</td>\n",
       "      <td>06-Mar</td>\n",
       "      <td>203</td>\n",
       "      <td>Butler</td>\n",
       "      <td>2433333.0</td>\n",
       "    </tr>\n",
       "    <tr>\n",
       "      <th>454</th>\n",
       "      <td>Raul Neto</td>\n",
       "      <td>Utah Jazz</td>\n",
       "      <td>25</td>\n",
       "      <td>PG</td>\n",
       "      <td>24</td>\n",
       "      <td>06-Jan</td>\n",
       "      <td>179</td>\n",
       "      <td>NaN</td>\n",
       "      <td>900000.0</td>\n",
       "    </tr>\n",
       "    <tr>\n",
       "      <th>455</th>\n",
       "      <td>Tibor Pleiss</td>\n",
       "      <td>Utah Jazz</td>\n",
       "      <td>21</td>\n",
       "      <td>C</td>\n",
       "      <td>26</td>\n",
       "      <td>07-Mar</td>\n",
       "      <td>256</td>\n",
       "      <td>NaN</td>\n",
       "      <td>2900000.0</td>\n",
       "    </tr>\n",
       "    <tr>\n",
       "      <th>456</th>\n",
       "      <td>Jeff Withey</td>\n",
       "      <td>Utah Jazz</td>\n",
       "      <td>24</td>\n",
       "      <td>C</td>\n",
       "      <td>26</td>\n",
       "      <td>7-0</td>\n",
       "      <td>231</td>\n",
       "      <td>Kansas</td>\n",
       "      <td>947276.0</td>\n",
       "    </tr>\n",
       "    <tr>\n",
       "      <th>457</th>\n",
       "      <td>Priyanka</td>\n",
       "      <td>Utah Jazz</td>\n",
       "      <td>34</td>\n",
       "      <td>C</td>\n",
       "      <td>25</td>\n",
       "      <td>07-Mar</td>\n",
       "      <td>231</td>\n",
       "      <td>Kansas</td>\n",
       "      <td>947276.0</td>\n",
       "    </tr>\n",
       "  </tbody>\n",
       "</table>\n",
       "<p>458 rows × 9 columns</p>\n",
       "</div>"
      ],
      "text/plain": [
       "              Name            Team  Number Position  Age  Height  Weight  \\\n",
       "0    Avery Bradley  Boston Celtics       0       PG   25  06-Feb     180   \n",
       "1      Jae Crowder  Boston Celtics      99       SF   25  06-Jun     235   \n",
       "2     John Holland  Boston Celtics      30       SG   27  06-May     205   \n",
       "3      R.J. Hunter  Boston Celtics      28       SG   22  06-May     185   \n",
       "4    Jonas Jerebko  Boston Celtics       8       PF   29  06-Oct     231   \n",
       "..             ...             ...     ...      ...  ...     ...     ...   \n",
       "453   Shelvin Mack       Utah Jazz       8       PG   26  06-Mar     203   \n",
       "454      Raul Neto       Utah Jazz      25       PG   24  06-Jan     179   \n",
       "455   Tibor Pleiss       Utah Jazz      21        C   26  07-Mar     256   \n",
       "456    Jeff Withey       Utah Jazz      24        C   26     7-0     231   \n",
       "457       Priyanka       Utah Jazz      34        C   25  07-Mar     231   \n",
       "\n",
       "               College     Salary  \n",
       "0                Texas  7730337.0  \n",
       "1            Marquette  6796117.0  \n",
       "2    Boston University        NaN  \n",
       "3        Georgia State  1148640.0  \n",
       "4                  NaN  5000000.0  \n",
       "..                 ...        ...  \n",
       "453             Butler  2433333.0  \n",
       "454                NaN   900000.0  \n",
       "455                NaN  2900000.0  \n",
       "456             Kansas   947276.0  \n",
       "457             Kansas   947276.0  \n",
       "\n",
       "[458 rows x 9 columns]"
      ]
     },
     "execution_count": 3,
     "metadata": {},
     "output_type": "execute_result"
    }
   ],
   "source": [
    "import seaborn as sns\n",
    "import numpy as np\n",
    "import pandas as pd\n",
    "import matplotlib.pyplot as plt\n",
    "data=pd.read_csv(\"Downloads/myexcel - myexcel.csv.csv\")\n",
    "data"
   ]
  },
  {
   "cell_type": "code",
   "execution_count": 4,
   "id": "c2aee71a-70fc-4529-aac7-8488e4df2cae",
   "metadata": {},
   "outputs": [
    {
     "data": {
      "text/html": [
       "<div>\n",
       "<style scoped>\n",
       "    .dataframe tbody tr th:only-of-type {\n",
       "        vertical-align: middle;\n",
       "    }\n",
       "\n",
       "    .dataframe tbody tr th {\n",
       "        vertical-align: top;\n",
       "    }\n",
       "\n",
       "    .dataframe thead th {\n",
       "        text-align: right;\n",
       "    }\n",
       "</style>\n",
       "<table border=\"1\" class=\"dataframe\">\n",
       "  <thead>\n",
       "    <tr style=\"text-align: right;\">\n",
       "      <th></th>\n",
       "      <th>Name</th>\n",
       "      <th>Team</th>\n",
       "      <th>Number</th>\n",
       "      <th>Position</th>\n",
       "      <th>Age</th>\n",
       "      <th>Height</th>\n",
       "      <th>Weight</th>\n",
       "      <th>College</th>\n",
       "      <th>Salary</th>\n",
       "    </tr>\n",
       "  </thead>\n",
       "  <tbody>\n",
       "    <tr>\n",
       "      <th>0</th>\n",
       "      <td>Avery Bradley</td>\n",
       "      <td>Boston Celtics</td>\n",
       "      <td>0</td>\n",
       "      <td>PG</td>\n",
       "      <td>25</td>\n",
       "      <td>156</td>\n",
       "      <td>180</td>\n",
       "      <td>Texas</td>\n",
       "      <td>7730337.0</td>\n",
       "    </tr>\n",
       "    <tr>\n",
       "      <th>1</th>\n",
       "      <td>Jae Crowder</td>\n",
       "      <td>Boston Celtics</td>\n",
       "      <td>99</td>\n",
       "      <td>SF</td>\n",
       "      <td>25</td>\n",
       "      <td>166</td>\n",
       "      <td>235</td>\n",
       "      <td>Marquette</td>\n",
       "      <td>6796117.0</td>\n",
       "    </tr>\n",
       "    <tr>\n",
       "      <th>2</th>\n",
       "      <td>John Holland</td>\n",
       "      <td>Boston Celtics</td>\n",
       "      <td>30</td>\n",
       "      <td>SG</td>\n",
       "      <td>27</td>\n",
       "      <td>152</td>\n",
       "      <td>205</td>\n",
       "      <td>Boston University</td>\n",
       "      <td>NaN</td>\n",
       "    </tr>\n",
       "    <tr>\n",
       "      <th>3</th>\n",
       "      <td>R.J. Hunter</td>\n",
       "      <td>Boston Celtics</td>\n",
       "      <td>28</td>\n",
       "      <td>SG</td>\n",
       "      <td>22</td>\n",
       "      <td>162</td>\n",
       "      <td>185</td>\n",
       "      <td>Georgia State</td>\n",
       "      <td>1148640.0</td>\n",
       "    </tr>\n",
       "    <tr>\n",
       "      <th>4</th>\n",
       "      <td>Jonas Jerebko</td>\n",
       "      <td>Boston Celtics</td>\n",
       "      <td>8</td>\n",
       "      <td>PF</td>\n",
       "      <td>29</td>\n",
       "      <td>178</td>\n",
       "      <td>231</td>\n",
       "      <td>NaN</td>\n",
       "      <td>5000000.0</td>\n",
       "    </tr>\n",
       "    <tr>\n",
       "      <th>...</th>\n",
       "      <td>...</td>\n",
       "      <td>...</td>\n",
       "      <td>...</td>\n",
       "      <td>...</td>\n",
       "      <td>...</td>\n",
       "      <td>...</td>\n",
       "      <td>...</td>\n",
       "      <td>...</td>\n",
       "      <td>...</td>\n",
       "    </tr>\n",
       "    <tr>\n",
       "      <th>453</th>\n",
       "      <td>Shelvin Mack</td>\n",
       "      <td>Utah Jazz</td>\n",
       "      <td>8</td>\n",
       "      <td>PG</td>\n",
       "      <td>26</td>\n",
       "      <td>163</td>\n",
       "      <td>203</td>\n",
       "      <td>Butler</td>\n",
       "      <td>2433333.0</td>\n",
       "    </tr>\n",
       "    <tr>\n",
       "      <th>454</th>\n",
       "      <td>Raul Neto</td>\n",
       "      <td>Utah Jazz</td>\n",
       "      <td>25</td>\n",
       "      <td>PG</td>\n",
       "      <td>24</td>\n",
       "      <td>174</td>\n",
       "      <td>179</td>\n",
       "      <td>NaN</td>\n",
       "      <td>900000.0</td>\n",
       "    </tr>\n",
       "    <tr>\n",
       "      <th>455</th>\n",
       "      <td>Tibor Pleiss</td>\n",
       "      <td>Utah Jazz</td>\n",
       "      <td>21</td>\n",
       "      <td>C</td>\n",
       "      <td>26</td>\n",
       "      <td>180</td>\n",
       "      <td>256</td>\n",
       "      <td>NaN</td>\n",
       "      <td>2900000.0</td>\n",
       "    </tr>\n",
       "    <tr>\n",
       "      <th>456</th>\n",
       "      <td>Jeff Withey</td>\n",
       "      <td>Utah Jazz</td>\n",
       "      <td>24</td>\n",
       "      <td>C</td>\n",
       "      <td>26</td>\n",
       "      <td>150</td>\n",
       "      <td>231</td>\n",
       "      <td>Kansas</td>\n",
       "      <td>947276.0</td>\n",
       "    </tr>\n",
       "    <tr>\n",
       "      <th>457</th>\n",
       "      <td>Priyanka</td>\n",
       "      <td>Utah Jazz</td>\n",
       "      <td>34</td>\n",
       "      <td>C</td>\n",
       "      <td>25</td>\n",
       "      <td>161</td>\n",
       "      <td>231</td>\n",
       "      <td>Kansas</td>\n",
       "      <td>947276.0</td>\n",
       "    </tr>\n",
       "  </tbody>\n",
       "</table>\n",
       "<p>458 rows × 9 columns</p>\n",
       "</div>"
      ],
      "text/plain": [
       "              Name            Team  Number Position  Age  Height  Weight  \\\n",
       "0    Avery Bradley  Boston Celtics       0       PG   25     156     180   \n",
       "1      Jae Crowder  Boston Celtics      99       SF   25     166     235   \n",
       "2     John Holland  Boston Celtics      30       SG   27     152     205   \n",
       "3      R.J. Hunter  Boston Celtics      28       SG   22     162     185   \n",
       "4    Jonas Jerebko  Boston Celtics       8       PF   29     178     231   \n",
       "..             ...             ...     ...      ...  ...     ...     ...   \n",
       "453   Shelvin Mack       Utah Jazz       8       PG   26     163     203   \n",
       "454      Raul Neto       Utah Jazz      25       PG   24     174     179   \n",
       "455   Tibor Pleiss       Utah Jazz      21        C   26     180     256   \n",
       "456    Jeff Withey       Utah Jazz      24        C   26     150     231   \n",
       "457       Priyanka       Utah Jazz      34        C   25     161     231   \n",
       "\n",
       "               College     Salary  \n",
       "0                Texas  7730337.0  \n",
       "1            Marquette  6796117.0  \n",
       "2    Boston University        NaN  \n",
       "3        Georgia State  1148640.0  \n",
       "4                  NaN  5000000.0  \n",
       "..                 ...        ...  \n",
       "453             Butler  2433333.0  \n",
       "454                NaN   900000.0  \n",
       "455                NaN  2900000.0  \n",
       "456             Kansas   947276.0  \n",
       "457             Kansas   947276.0  \n",
       "\n",
       "[458 rows x 9 columns]"
      ]
     },
     "execution_count": 4,
     "metadata": {},
     "output_type": "execute_result"
    }
   ],
   "source": [
    "data['Height'] = np.random.randint(150, 181, size=len(data))\n",
    "data"
   ]
  },
  {
   "cell_type": "code",
   "execution_count": null,
   "id": "20d3a43d-02eb-47f5-aa06-10da280ba450",
   "metadata": {},
   "outputs": [],
   "source": [
    "#dataset updated with correct height values according to the question."
   ]
  },
  {
   "cell_type": "code",
   "execution_count": null,
   "id": "26745eb0-b098-4925-afe8-0b9556c176a3",
   "metadata": {},
   "outputs": [],
   "source": [
    "#now using some functions like head(), tail(), describe(include=all) for find out some basic information about the dataset."
   ]
  },
  {
   "cell_type": "code",
   "execution_count": 5,
   "id": "2ce04d39-7d91-44ff-898c-5cf5b80070e3",
   "metadata": {},
   "outputs": [
    {
     "data": {
      "text/html": [
       "<div>\n",
       "<style scoped>\n",
       "    .dataframe tbody tr th:only-of-type {\n",
       "        vertical-align: middle;\n",
       "    }\n",
       "\n",
       "    .dataframe tbody tr th {\n",
       "        vertical-align: top;\n",
       "    }\n",
       "\n",
       "    .dataframe thead th {\n",
       "        text-align: right;\n",
       "    }\n",
       "</style>\n",
       "<table border=\"1\" class=\"dataframe\">\n",
       "  <thead>\n",
       "    <tr style=\"text-align: right;\">\n",
       "      <th></th>\n",
       "      <th>Name</th>\n",
       "      <th>Team</th>\n",
       "      <th>Number</th>\n",
       "      <th>Position</th>\n",
       "      <th>Age</th>\n",
       "      <th>Height</th>\n",
       "      <th>Weight</th>\n",
       "      <th>College</th>\n",
       "      <th>Salary</th>\n",
       "    </tr>\n",
       "  </thead>\n",
       "  <tbody>\n",
       "    <tr>\n",
       "      <th>0</th>\n",
       "      <td>Avery Bradley</td>\n",
       "      <td>Boston Celtics</td>\n",
       "      <td>0</td>\n",
       "      <td>PG</td>\n",
       "      <td>25</td>\n",
       "      <td>156</td>\n",
       "      <td>180</td>\n",
       "      <td>Texas</td>\n",
       "      <td>7730337.0</td>\n",
       "    </tr>\n",
       "    <tr>\n",
       "      <th>1</th>\n",
       "      <td>Jae Crowder</td>\n",
       "      <td>Boston Celtics</td>\n",
       "      <td>99</td>\n",
       "      <td>SF</td>\n",
       "      <td>25</td>\n",
       "      <td>166</td>\n",
       "      <td>235</td>\n",
       "      <td>Marquette</td>\n",
       "      <td>6796117.0</td>\n",
       "    </tr>\n",
       "    <tr>\n",
       "      <th>2</th>\n",
       "      <td>John Holland</td>\n",
       "      <td>Boston Celtics</td>\n",
       "      <td>30</td>\n",
       "      <td>SG</td>\n",
       "      <td>27</td>\n",
       "      <td>152</td>\n",
       "      <td>205</td>\n",
       "      <td>Boston University</td>\n",
       "      <td>NaN</td>\n",
       "    </tr>\n",
       "    <tr>\n",
       "      <th>3</th>\n",
       "      <td>R.J. Hunter</td>\n",
       "      <td>Boston Celtics</td>\n",
       "      <td>28</td>\n",
       "      <td>SG</td>\n",
       "      <td>22</td>\n",
       "      <td>162</td>\n",
       "      <td>185</td>\n",
       "      <td>Georgia State</td>\n",
       "      <td>1148640.0</td>\n",
       "    </tr>\n",
       "    <tr>\n",
       "      <th>4</th>\n",
       "      <td>Jonas Jerebko</td>\n",
       "      <td>Boston Celtics</td>\n",
       "      <td>8</td>\n",
       "      <td>PF</td>\n",
       "      <td>29</td>\n",
       "      <td>178</td>\n",
       "      <td>231</td>\n",
       "      <td>NaN</td>\n",
       "      <td>5000000.0</td>\n",
       "    </tr>\n",
       "  </tbody>\n",
       "</table>\n",
       "</div>"
      ],
      "text/plain": [
       "            Name            Team  Number Position  Age  Height  Weight  \\\n",
       "0  Avery Bradley  Boston Celtics       0       PG   25     156     180   \n",
       "1    Jae Crowder  Boston Celtics      99       SF   25     166     235   \n",
       "2   John Holland  Boston Celtics      30       SG   27     152     205   \n",
       "3    R.J. Hunter  Boston Celtics      28       SG   22     162     185   \n",
       "4  Jonas Jerebko  Boston Celtics       8       PF   29     178     231   \n",
       "\n",
       "             College     Salary  \n",
       "0              Texas  7730337.0  \n",
       "1          Marquette  6796117.0  \n",
       "2  Boston University        NaN  \n",
       "3      Georgia State  1148640.0  \n",
       "4                NaN  5000000.0  "
      ]
     },
     "execution_count": 5,
     "metadata": {},
     "output_type": "execute_result"
    }
   ],
   "source": [
    "data.head()"
   ]
  },
  {
   "cell_type": "code",
   "execution_count": 6,
   "id": "0f83025e-9340-4414-bb85-857b2890c696",
   "metadata": {},
   "outputs": [
    {
     "data": {
      "text/html": [
       "<div>\n",
       "<style scoped>\n",
       "    .dataframe tbody tr th:only-of-type {\n",
       "        vertical-align: middle;\n",
       "    }\n",
       "\n",
       "    .dataframe tbody tr th {\n",
       "        vertical-align: top;\n",
       "    }\n",
       "\n",
       "    .dataframe thead th {\n",
       "        text-align: right;\n",
       "    }\n",
       "</style>\n",
       "<table border=\"1\" class=\"dataframe\">\n",
       "  <thead>\n",
       "    <tr style=\"text-align: right;\">\n",
       "      <th></th>\n",
       "      <th>Name</th>\n",
       "      <th>Team</th>\n",
       "      <th>Number</th>\n",
       "      <th>Position</th>\n",
       "      <th>Age</th>\n",
       "      <th>Height</th>\n",
       "      <th>Weight</th>\n",
       "      <th>College</th>\n",
       "      <th>Salary</th>\n",
       "    </tr>\n",
       "  </thead>\n",
       "  <tbody>\n",
       "    <tr>\n",
       "      <th>453</th>\n",
       "      <td>Shelvin Mack</td>\n",
       "      <td>Utah Jazz</td>\n",
       "      <td>8</td>\n",
       "      <td>PG</td>\n",
       "      <td>26</td>\n",
       "      <td>163</td>\n",
       "      <td>203</td>\n",
       "      <td>Butler</td>\n",
       "      <td>2433333.0</td>\n",
       "    </tr>\n",
       "    <tr>\n",
       "      <th>454</th>\n",
       "      <td>Raul Neto</td>\n",
       "      <td>Utah Jazz</td>\n",
       "      <td>25</td>\n",
       "      <td>PG</td>\n",
       "      <td>24</td>\n",
       "      <td>174</td>\n",
       "      <td>179</td>\n",
       "      <td>NaN</td>\n",
       "      <td>900000.0</td>\n",
       "    </tr>\n",
       "    <tr>\n",
       "      <th>455</th>\n",
       "      <td>Tibor Pleiss</td>\n",
       "      <td>Utah Jazz</td>\n",
       "      <td>21</td>\n",
       "      <td>C</td>\n",
       "      <td>26</td>\n",
       "      <td>180</td>\n",
       "      <td>256</td>\n",
       "      <td>NaN</td>\n",
       "      <td>2900000.0</td>\n",
       "    </tr>\n",
       "    <tr>\n",
       "      <th>456</th>\n",
       "      <td>Jeff Withey</td>\n",
       "      <td>Utah Jazz</td>\n",
       "      <td>24</td>\n",
       "      <td>C</td>\n",
       "      <td>26</td>\n",
       "      <td>150</td>\n",
       "      <td>231</td>\n",
       "      <td>Kansas</td>\n",
       "      <td>947276.0</td>\n",
       "    </tr>\n",
       "    <tr>\n",
       "      <th>457</th>\n",
       "      <td>Priyanka</td>\n",
       "      <td>Utah Jazz</td>\n",
       "      <td>34</td>\n",
       "      <td>C</td>\n",
       "      <td>25</td>\n",
       "      <td>161</td>\n",
       "      <td>231</td>\n",
       "      <td>Kansas</td>\n",
       "      <td>947276.0</td>\n",
       "    </tr>\n",
       "  </tbody>\n",
       "</table>\n",
       "</div>"
      ],
      "text/plain": [
       "             Name       Team  Number Position  Age  Height  Weight College  \\\n",
       "453  Shelvin Mack  Utah Jazz       8       PG   26     163     203  Butler   \n",
       "454     Raul Neto  Utah Jazz      25       PG   24     174     179     NaN   \n",
       "455  Tibor Pleiss  Utah Jazz      21        C   26     180     256     NaN   \n",
       "456   Jeff Withey  Utah Jazz      24        C   26     150     231  Kansas   \n",
       "457      Priyanka  Utah Jazz      34        C   25     161     231  Kansas   \n",
       "\n",
       "        Salary  \n",
       "453  2433333.0  \n",
       "454   900000.0  \n",
       "455  2900000.0  \n",
       "456   947276.0  \n",
       "457   947276.0  "
      ]
     },
     "execution_count": 6,
     "metadata": {},
     "output_type": "execute_result"
    }
   ],
   "source": [
    "data.tail()"
   ]
  },
  {
   "cell_type": "code",
   "execution_count": 7,
   "id": "8d672639-3445-4c5e-9725-955855b145a0",
   "metadata": {},
   "outputs": [
    {
     "data": {
      "text/html": [
       "<div>\n",
       "<style scoped>\n",
       "    .dataframe tbody tr th:only-of-type {\n",
       "        vertical-align: middle;\n",
       "    }\n",
       "\n",
       "    .dataframe tbody tr th {\n",
       "        vertical-align: top;\n",
       "    }\n",
       "\n",
       "    .dataframe thead th {\n",
       "        text-align: right;\n",
       "    }\n",
       "</style>\n",
       "<table border=\"1\" class=\"dataframe\">\n",
       "  <thead>\n",
       "    <tr style=\"text-align: right;\">\n",
       "      <th></th>\n",
       "      <th>Name</th>\n",
       "      <th>Team</th>\n",
       "      <th>Number</th>\n",
       "      <th>Position</th>\n",
       "      <th>Age</th>\n",
       "      <th>Height</th>\n",
       "      <th>Weight</th>\n",
       "      <th>College</th>\n",
       "      <th>Salary</th>\n",
       "    </tr>\n",
       "  </thead>\n",
       "  <tbody>\n",
       "    <tr>\n",
       "      <th>count</th>\n",
       "      <td>458</td>\n",
       "      <td>458</td>\n",
       "      <td>458.000000</td>\n",
       "      <td>458</td>\n",
       "      <td>458.000000</td>\n",
       "      <td>458.000000</td>\n",
       "      <td>458.000000</td>\n",
       "      <td>374</td>\n",
       "      <td>4.470000e+02</td>\n",
       "    </tr>\n",
       "    <tr>\n",
       "      <th>unique</th>\n",
       "      <td>458</td>\n",
       "      <td>30</td>\n",
       "      <td>NaN</td>\n",
       "      <td>5</td>\n",
       "      <td>NaN</td>\n",
       "      <td>NaN</td>\n",
       "      <td>NaN</td>\n",
       "      <td>118</td>\n",
       "      <td>NaN</td>\n",
       "    </tr>\n",
       "    <tr>\n",
       "      <th>top</th>\n",
       "      <td>Avery Bradley</td>\n",
       "      <td>New Orleans Pelicans</td>\n",
       "      <td>NaN</td>\n",
       "      <td>SG</td>\n",
       "      <td>NaN</td>\n",
       "      <td>NaN</td>\n",
       "      <td>NaN</td>\n",
       "      <td>Kentucky</td>\n",
       "      <td>NaN</td>\n",
       "    </tr>\n",
       "    <tr>\n",
       "      <th>freq</th>\n",
       "      <td>1</td>\n",
       "      <td>19</td>\n",
       "      <td>NaN</td>\n",
       "      <td>102</td>\n",
       "      <td>NaN</td>\n",
       "      <td>NaN</td>\n",
       "      <td>NaN</td>\n",
       "      <td>22</td>\n",
       "      <td>NaN</td>\n",
       "    </tr>\n",
       "    <tr>\n",
       "      <th>mean</th>\n",
       "      <td>NaN</td>\n",
       "      <td>NaN</td>\n",
       "      <td>17.713974</td>\n",
       "      <td>NaN</td>\n",
       "      <td>26.934498</td>\n",
       "      <td>165.379913</td>\n",
       "      <td>221.543668</td>\n",
       "      <td>NaN</td>\n",
       "      <td>4.833970e+06</td>\n",
       "    </tr>\n",
       "    <tr>\n",
       "      <th>std</th>\n",
       "      <td>NaN</td>\n",
       "      <td>NaN</td>\n",
       "      <td>15.966837</td>\n",
       "      <td>NaN</td>\n",
       "      <td>4.400128</td>\n",
       "      <td>9.017597</td>\n",
       "      <td>26.343200</td>\n",
       "      <td>NaN</td>\n",
       "      <td>5.226620e+06</td>\n",
       "    </tr>\n",
       "    <tr>\n",
       "      <th>min</th>\n",
       "      <td>NaN</td>\n",
       "      <td>NaN</td>\n",
       "      <td>0.000000</td>\n",
       "      <td>NaN</td>\n",
       "      <td>19.000000</td>\n",
       "      <td>150.000000</td>\n",
       "      <td>161.000000</td>\n",
       "      <td>NaN</td>\n",
       "      <td>3.088800e+04</td>\n",
       "    </tr>\n",
       "    <tr>\n",
       "      <th>25%</th>\n",
       "      <td>NaN</td>\n",
       "      <td>NaN</td>\n",
       "      <td>5.000000</td>\n",
       "      <td>NaN</td>\n",
       "      <td>24.000000</td>\n",
       "      <td>158.000000</td>\n",
       "      <td>200.000000</td>\n",
       "      <td>NaN</td>\n",
       "      <td>1.025210e+06</td>\n",
       "    </tr>\n",
       "    <tr>\n",
       "      <th>50%</th>\n",
       "      <td>NaN</td>\n",
       "      <td>NaN</td>\n",
       "      <td>13.000000</td>\n",
       "      <td>NaN</td>\n",
       "      <td>26.000000</td>\n",
       "      <td>165.000000</td>\n",
       "      <td>220.000000</td>\n",
       "      <td>NaN</td>\n",
       "      <td>2.836186e+06</td>\n",
       "    </tr>\n",
       "    <tr>\n",
       "      <th>75%</th>\n",
       "      <td>NaN</td>\n",
       "      <td>NaN</td>\n",
       "      <td>25.000000</td>\n",
       "      <td>NaN</td>\n",
       "      <td>30.000000</td>\n",
       "      <td>174.000000</td>\n",
       "      <td>240.000000</td>\n",
       "      <td>NaN</td>\n",
       "      <td>6.500000e+06</td>\n",
       "    </tr>\n",
       "    <tr>\n",
       "      <th>max</th>\n",
       "      <td>NaN</td>\n",
       "      <td>NaN</td>\n",
       "      <td>99.000000</td>\n",
       "      <td>NaN</td>\n",
       "      <td>40.000000</td>\n",
       "      <td>180.000000</td>\n",
       "      <td>307.000000</td>\n",
       "      <td>NaN</td>\n",
       "      <td>2.500000e+07</td>\n",
       "    </tr>\n",
       "  </tbody>\n",
       "</table>\n",
       "</div>"
      ],
      "text/plain": [
       "                 Name                  Team      Number Position         Age  \\\n",
       "count             458                   458  458.000000      458  458.000000   \n",
       "unique            458                    30         NaN        5         NaN   \n",
       "top     Avery Bradley  New Orleans Pelicans         NaN       SG         NaN   \n",
       "freq                1                    19         NaN      102         NaN   \n",
       "mean              NaN                   NaN   17.713974      NaN   26.934498   \n",
       "std               NaN                   NaN   15.966837      NaN    4.400128   \n",
       "min               NaN                   NaN    0.000000      NaN   19.000000   \n",
       "25%               NaN                   NaN    5.000000      NaN   24.000000   \n",
       "50%               NaN                   NaN   13.000000      NaN   26.000000   \n",
       "75%               NaN                   NaN   25.000000      NaN   30.000000   \n",
       "max               NaN                   NaN   99.000000      NaN   40.000000   \n",
       "\n",
       "            Height      Weight   College        Salary  \n",
       "count   458.000000  458.000000       374  4.470000e+02  \n",
       "unique         NaN         NaN       118           NaN  \n",
       "top            NaN         NaN  Kentucky           NaN  \n",
       "freq           NaN         NaN        22           NaN  \n",
       "mean    165.379913  221.543668       NaN  4.833970e+06  \n",
       "std       9.017597   26.343200       NaN  5.226620e+06  \n",
       "min     150.000000  161.000000       NaN  3.088800e+04  \n",
       "25%     158.000000  200.000000       NaN  1.025210e+06  \n",
       "50%     165.000000  220.000000       NaN  2.836186e+06  \n",
       "75%     174.000000  240.000000       NaN  6.500000e+06  \n",
       "max     180.000000  307.000000       NaN  2.500000e+07  "
      ]
     },
     "execution_count": 7,
     "metadata": {},
     "output_type": "execute_result"
    }
   ],
   "source": [
    "data.describe(include='all')"
   ]
  },
  {
   "cell_type": "code",
   "execution_count": 9,
   "id": "964affe5-5029-489a-a11f-74e5a30122c3",
   "metadata": {},
   "outputs": [
    {
     "name": "stdout",
     "output_type": "stream",
     "text": [
      "<class 'pandas.core.frame.DataFrame'>\n",
      "RangeIndex: 458 entries, 0 to 457\n",
      "Data columns (total 10 columns):\n",
      " #   Column    Non-Null Count  Dtype  \n",
      "---  ------    --------------  -----  \n",
      " 0   Name      458 non-null    object \n",
      " 1   Team      458 non-null    object \n",
      " 2   Number    458 non-null    int64  \n",
      " 3   Position  458 non-null    object \n",
      " 4   Age       458 non-null    int64  \n",
      " 5   Height    458 non-null    object \n",
      " 6   Weight    458 non-null    int64  \n",
      " 7   College   374 non-null    object \n",
      " 8   Salary    447 non-null    float64\n",
      " 9   height    458 non-null    int32  \n",
      "dtypes: float64(1), int32(1), int64(3), object(5)\n",
      "memory usage: 34.1+ KB\n"
     ]
    }
   ],
   "source": [
    "data.info()"
   ]
  },
  {
   "cell_type": "code",
   "execution_count": 10,
   "id": "fd822b96-c4e8-4174-ba93-22be71ddc3f6",
   "metadata": {},
   "outputs": [
    {
     "data": {
      "text/plain": [
       "Name         0\n",
       "Team         0\n",
       "Number       0\n",
       "Position     0\n",
       "Age          0\n",
       "Height       0\n",
       "Weight       0\n",
       "College     84\n",
       "Salary      11\n",
       "height       0\n",
       "dtype: int64"
      ]
     },
     "execution_count": 10,
     "metadata": {},
     "output_type": "execute_result"
    }
   ],
   "source": [
    "#To check if there are any missing values\n",
    "data.isnull().sum()"
   ]
  },
  {
   "cell_type": "code",
   "execution_count": 11,
   "id": "78a5b26d-e75d-475a-8534-cb9aa511f895",
   "metadata": {},
   "outputs": [
    {
     "data": {
      "text/plain": [
       "0"
      ]
     },
     "execution_count": 11,
     "metadata": {},
     "output_type": "execute_result"
    }
   ],
   "source": [
    "#To check if there are any duplicates\n",
    "data.duplicated().sum()"
   ]
  },
  {
   "cell_type": "code",
   "execution_count": 12,
   "id": "67e93ba1-b3c4-4797-9aac-a0613260a011",
   "metadata": {},
   "outputs": [
    {
     "data": {
      "text/plain": [
       "Index(['Name', 'Team', 'Number', 'Position', 'Age', 'Height', 'Weight',\n",
       "       'College', 'Salary', 'height'],\n",
       "      dtype='object')"
      ]
     },
     "execution_count": 12,
     "metadata": {},
     "output_type": "execute_result"
    }
   ],
   "source": [
    "#To view column names\n",
    "data.columns"
   ]
  },
  {
   "cell_type": "code",
   "execution_count": 13,
   "id": "e14f8777-3fdc-456c-ace0-b35802f7eb78",
   "metadata": {},
   "outputs": [
    {
     "data": {
      "text/plain": [
       "0    7730337.0\n",
       "1    6796117.0\n",
       "2          NaN\n",
       "3    1148640.0\n",
       "4    5000000.0\n",
       "Name: Salary, dtype: float64"
      ]
     },
     "execution_count": 13,
     "metadata": {},
     "output_type": "execute_result"
    }
   ],
   "source": [
    "data['Salary'].head()"
   ]
  },
  {
   "cell_type": "code",
   "execution_count": null,
   "id": "aa30c540-3147-422e-8dea-d9843d5f6116",
   "metadata": {},
   "outputs": [],
   "source": [
    "#Checking counts "
   ]
  },
  {
   "cell_type": "code",
   "execution_count": 16,
   "id": "25ea55f9-5d7e-494e-be5b-5d50aeed154a",
   "metadata": {},
   "outputs": [
    {
     "data": {
      "text/plain": [
       "Team\n",
       "New Orleans Pelicans      19\n",
       "Memphis Grizzlies         18\n",
       "Utah Jazz                 16\n",
       "New York Knicks           16\n",
       "Milwaukee Bucks           16\n",
       "Brooklyn Nets             15\n",
       "Portland Trail Blazers    15\n",
       "Oklahoma City Thunder     15\n",
       "Denver Nuggets            15\n",
       "Washington Wizards        15\n",
       "Miami Heat                15\n",
       "Charlotte Hornets         15\n",
       "Atlanta Hawks             15\n",
       "San Antonio Spurs         15\n",
       "Houston Rockets           15\n",
       "Boston Celtics            15\n",
       "Indiana Pacers            15\n",
       "Detroit Pistons           15\n",
       "Cleveland Cavaliers       15\n",
       "Chicago Bulls             15\n",
       "Sacramento Kings          15\n",
       "Phoenix Suns              15\n",
       "Los Angeles Lakers        15\n",
       "Los Angeles Clippers      15\n",
       "Golden State Warriors     15\n",
       "Toronto Raptors           15\n",
       "Philadelphia 76ers        15\n",
       "Dallas Mavericks          15\n",
       "Orlando Magic             14\n",
       "Minnesota Timberwolves    14\n",
       "Name: count, dtype: int64"
      ]
     },
     "execution_count": 16,
     "metadata": {},
     "output_type": "execute_result"
    }
   ],
   "source": [
    "data['Team'].value_counts()"
   ]
  },
  {
   "cell_type": "code",
   "execution_count": 17,
   "id": "279fcbba-bc6b-44c7-a76a-66c9ce9a3345",
   "metadata": {},
   "outputs": [
    {
     "data": {
      "text/plain": [
       "Age\n",
       "24    47\n",
       "25    46\n",
       "27    41\n",
       "23    41\n",
       "26    36\n",
       "28    31\n",
       "30    31\n",
       "29    28\n",
       "22    26\n",
       "31    22\n",
       "20    19\n",
       "21    19\n",
       "33    14\n",
       "32    13\n",
       "34    10\n",
       "36    10\n",
       "35     9\n",
       "37     4\n",
       "38     4\n",
       "40     3\n",
       "39     2\n",
       "19     2\n",
       "Name: count, dtype: int64"
      ]
     },
     "execution_count": 17,
     "metadata": {},
     "output_type": "execute_result"
    }
   ],
   "source": [
    "data['Age'].value_counts()"
   ]
  },
  {
   "cell_type": "code",
   "execution_count": 18,
   "id": "4babcdcb-61fc-46a7-a6b5-419397bae3e7",
   "metadata": {},
   "outputs": [
    {
     "data": {
      "text/plain": [
       "College\n",
       "Kentucky           22\n",
       "Duke               20\n",
       "Kansas             19\n",
       "North Carolina     16\n",
       "UCLA               15\n",
       "                   ..\n",
       "Utah Valley         1\n",
       "Cleveland State     1\n",
       "Iowa State          1\n",
       "Florida State       1\n",
       "Baylor              1\n",
       "Name: count, Length: 118, dtype: int64"
      ]
     },
     "execution_count": 18,
     "metadata": {},
     "output_type": "execute_result"
    }
   ],
   "source": [
    "data['College'].value_counts()"
   ]
  },
  {
   "cell_type": "code",
   "execution_count": 19,
   "id": "cf21b70e-6a86-4bf4-9f37-edcb7c7e8c8c",
   "metadata": {},
   "outputs": [
    {
     "data": {
      "text/plain": [
       "Position\n",
       "SG    102\n",
       "PF    100\n",
       "PG     92\n",
       "SF     85\n",
       "C      79\n",
       "Name: count, dtype: int64"
      ]
     },
     "execution_count": 19,
     "metadata": {},
     "output_type": "execute_result"
    }
   ],
   "source": [
    "data['Position'].value_counts()"
   ]
  },
  {
   "cell_type": "code",
   "execution_count": 23,
   "id": "9bd760a1-7457-4fd1-93b1-7a8cef2c6ab1",
   "metadata": {},
   "outputs": [
    {
     "data": {
      "text/plain": [
       "Height\n",
       "156    21\n",
       "167    20\n",
       "161    19\n",
       "175    18\n",
       "179    18\n",
       "152    18\n",
       "166    17\n",
       "151    17\n",
       "176    17\n",
       "178    16\n",
       "158    16\n",
       "164    16\n",
       "169    16\n",
       "153    15\n",
       "150    15\n",
       "171    15\n",
       "172    14\n",
       "177    14\n",
       "159    14\n",
       "155    13\n",
       "163    13\n",
       "160    13\n",
       "180    13\n",
       "165    13\n",
       "170    12\n",
       "168    12\n",
       "154    12\n",
       "174    12\n",
       "157    11\n",
       "173     9\n",
       "162     9\n",
       "Name: count, dtype: int64"
      ]
     },
     "execution_count": 23,
     "metadata": {},
     "output_type": "execute_result"
    }
   ],
   "source": [
    "data['Height'].value_counts()"
   ]
  },
  {
   "cell_type": "code",
   "execution_count": 24,
   "id": "47b911f3-a8be-42ab-aa33-fe3377ac62c6",
   "metadata": {},
   "outputs": [
    {
     "data": {
      "text/plain": [
       "Weight\n",
       "220    29\n",
       "240    28\n",
       "250    26\n",
       "200    25\n",
       "205    22\n",
       "       ..\n",
       "229     1\n",
       "192     1\n",
       "249     1\n",
       "217     1\n",
       "256     1\n",
       "Name: count, Length: 87, dtype: int64"
      ]
     },
     "execution_count": 24,
     "metadata": {},
     "output_type": "execute_result"
    }
   ],
   "source": [
    "data['Weight'].value_counts()"
   ]
  },
  {
   "cell_type": "code",
   "execution_count": 25,
   "id": "ced063e7-e9f4-4425-9126-98558909cf88",
   "metadata": {},
   "outputs": [
    {
     "data": {
      "text/plain": [
       "Salary\n",
       "947276.0      32\n",
       "845059.0      18\n",
       "525093.0      13\n",
       "981348.0       6\n",
       "16407500.0     5\n",
       "              ..\n",
       "2100000.0      1\n",
       "1252440.0      1\n",
       "2891760.0      1\n",
       "3272091.0      1\n",
       "900000.0       1\n",
       "Name: count, Length: 309, dtype: int64"
      ]
     },
     "execution_count": 25,
     "metadata": {},
     "output_type": "execute_result"
    }
   ],
   "source": [
    "data['Salary'].value_counts()"
   ]
  },
  {
   "cell_type": "code",
   "execution_count": null,
   "id": "ff0e4053-dbdd-4ae8-b835-4818d3194781",
   "metadata": {},
   "outputs": [],
   "source": [
    "#Q1\n",
    "#1.How many are there in each Team and the percentage splitting with respect to the total employees."
   ]
  },
  {
   "cell_type": "code",
   "execution_count": null,
   "id": "32a40821-ded5-4bef-8076-590ac5b0f7fc",
   "metadata": {},
   "outputs": [],
   "source": [
    "# Calculate the number of employees in each team\n",
    "team_counts = data['Team'].value_counts()"
   ]
  },
  {
   "cell_type": "code",
   "execution_count": 29,
   "id": "1efdc6bb-83ee-4e48-b052-0e22e5968f2c",
   "metadata": {},
   "outputs": [
    {
     "data": {
      "text/plain": [
       "Team\n",
       "New Orleans Pelicans      4.15\n",
       "Memphis Grizzlies         3.93\n",
       "Utah Jazz                 3.49\n",
       "New York Knicks           3.49\n",
       "Milwaukee Bucks           3.49\n",
       "Brooklyn Nets             3.28\n",
       "Portland Trail Blazers    3.28\n",
       "Oklahoma City Thunder     3.28\n",
       "Denver Nuggets            3.28\n",
       "Washington Wizards        3.28\n",
       "Miami Heat                3.28\n",
       "Charlotte Hornets         3.28\n",
       "Atlanta Hawks             3.28\n",
       "San Antonio Spurs         3.28\n",
       "Houston Rockets           3.28\n",
       "Boston Celtics            3.28\n",
       "Indiana Pacers            3.28\n",
       "Detroit Pistons           3.28\n",
       "Cleveland Cavaliers       3.28\n",
       "Chicago Bulls             3.28\n",
       "Sacramento Kings          3.28\n",
       "Phoenix Suns              3.28\n",
       "Los Angeles Lakers        3.28\n",
       "Los Angeles Clippers      3.28\n",
       "Golden State Warriors     3.28\n",
       "Toronto Raptors           3.28\n",
       "Philadelphia 76ers        3.28\n",
       "Dallas Mavericks          3.28\n",
       "Orlando Magic             3.06\n",
       "Minnesota Timberwolves    3.06\n",
       "Name: count, dtype: float64"
      ]
     },
     "execution_count": 29,
     "metadata": {},
     "output_type": "execute_result"
    }
   ],
   "source": [
    "# Calculate the percentage of employees in each team relative to the total number of employees\n",
    "total_employees = len(data)\n",
    "team_percentage = round((team_counts / total_employees) * 100,2)\n",
    "team_percentage"
   ]
  },
  {
   "cell_type": "code",
   "execution_count": 39,
   "id": "c4c58f02-8b6f-4cc4-868f-e40b9f4b469d",
   "metadata": {},
   "outputs": [
    {
     "name": "stdout",
     "output_type": "stream",
     "text": [
      "Number of employees in each team and their percentage:\n",
      "                        Number of Employees Percentage of Employees\n",
      "Team                                                               \n",
      "New Orleans Pelicans                     19                   4.15%\n",
      "Memphis Grizzlies                        18                   3.93%\n",
      "Utah Jazz                                16                   3.49%\n",
      "New York Knicks                          16                   3.49%\n",
      "Milwaukee Bucks                          16                   3.49%\n",
      "Brooklyn Nets                            15                   3.28%\n",
      "Portland Trail Blazers                   15                   3.28%\n",
      "Oklahoma City Thunder                    15                   3.28%\n",
      "Denver Nuggets                           15                   3.28%\n",
      "Washington Wizards                       15                   3.28%\n",
      "Miami Heat                               15                   3.28%\n",
      "Charlotte Hornets                        15                   3.28%\n",
      "Atlanta Hawks                            15                   3.28%\n",
      "San Antonio Spurs                        15                   3.28%\n",
      "Houston Rockets                          15                   3.28%\n",
      "Boston Celtics                           15                   3.28%\n",
      "Indiana Pacers                           15                   3.28%\n",
      "Detroit Pistons                          15                   3.28%\n",
      "Cleveland Cavaliers                      15                   3.28%\n",
      "Chicago Bulls                            15                   3.28%\n",
      "Sacramento Kings                         15                   3.28%\n",
      "Phoenix Suns                             15                   3.28%\n",
      "Los Angeles Lakers                       15                   3.28%\n",
      "Los Angeles Clippers                     15                   3.28%\n",
      "Golden State Warriors                    15                   3.28%\n",
      "Toronto Raptors                          15                   3.28%\n",
      "Philadelphia 76ers                       15                   3.28%\n",
      "Dallas Mavericks                         15                   3.28%\n",
      "Orlando Magic                            14                   3.06%\n",
      "Minnesota Timberwolves                   14                   3.06%\n"
     ]
    }
   ],
   "source": [
    "# Concatenate team_counts and team_percentage into a single DataFrame\n",
    "result_data = pd.concat([team_counts, team_percentage], axis=1)\n",
    "\n",
    "# Rename the columns\n",
    "result_data.columns = ['Number of Employees', 'Percentage of Employees']\n",
    "\n",
    "# Add '%' symbol to the values in 'Percentage of Employees' column\n",
    "result_data['Percentage of Employees'] = result_data['Percentage of Employees'].astype(str) + '%'\n",
    "\n",
    "# Display the results\n",
    "print(\"Number of employees in each team and their percentage:\")\n",
    "print(result_data)"
   ]
  },
  {
   "cell_type": "code",
   "execution_count": null,
   "id": "87dfe2f2-7a84-4fff-9501-14b0fd1d7e18",
   "metadata": {},
   "outputs": [],
   "source": []
  },
  {
   "cell_type": "code",
   "execution_count": null,
   "id": "c0a6fd13-3e50-461f-989c-b1c262cce23d",
   "metadata": {},
   "outputs": [],
   "source": [
    "#Q2.Segregate the employees w.r.t different positions."
   ]
  },
  {
   "cell_type": "code",
   "execution_count": 43,
   "id": "57c5f57a-f118-45c0-a42e-46732ed25b99",
   "metadata": {},
   "outputs": [
    {
     "data": {
      "text/plain": [
       "<pandas.core.groupby.generic.DataFrameGroupBy object at 0x00000261EFA41820>"
      ]
     },
     "execution_count": 43,
     "metadata": {},
     "output_type": "execute_result"
    }
   ],
   "source": [
    "# Group the dataset by the \"Position\" column\n",
    "position_groups = data.groupby('Position')\n",
    "position_groups"
   ]
  },
  {
   "cell_type": "code",
   "execution_count": 42,
   "id": "0e622a01-c02f-4cd1-876f-4398a580b3fd",
   "metadata": {},
   "outputs": [
    {
     "name": "stdout",
     "output_type": "stream",
     "text": [
      "Employees in position: C\n",
      "                Name      Salary         College\n",
      "7       Kelly Olynyk   2165160.0         Gonzaga\n",
      "10   Jared Sullinger   2569260.0      Ohio State\n",
      "14      Tyler Zeller   2616975.0  North Carolina\n",
      "23       Brook Lopez  19689000.0        Stanford\n",
      "27        Henry Sims    947276.0      Georgetown\n",
      "..               ...         ...             ...\n",
      "439    Mason Plumlee   1415520.0            Duke\n",
      "447      Rudy Gobert   1175880.0             NaN\n",
      "455     Tibor Pleiss   2900000.0             NaN\n",
      "456      Jeff Withey    947276.0          Kansas\n",
      "457         Priyanka    947276.0          Kansas\n",
      "\n",
      "[79 rows x 3 columns]\n",
      "\n",
      "\n",
      "Employees in position: PF\n",
      "                 Name      Salary       College\n",
      "4       Jonas Jerebko   5000000.0           NaN\n",
      "5        Amir Johnson  12000000.0           NaN\n",
      "6       Jordan Mickey   1170960.0           LSU\n",
      "24   Chris McCullough   1140240.0      Syracuse\n",
      "25        Willie Reed    947276.0   Saint Louis\n",
      "..                ...         ...           ...\n",
      "435    Meyers Leonard   3075880.0      Illinois\n",
      "441       Noah Vonleh   2637720.0       Indiana\n",
      "442     Trevor Booker   4775000.0       Clemson\n",
      "446    Derrick Favors  12000000.0  Georgia Tech\n",
      "452        Trey Lyles   2239800.0      Kentucky\n",
      "\n",
      "[100 rows x 3 columns]\n",
      "\n",
      "\n",
      "Employees in position: PG\n",
      "              Name     Salary         College\n",
      "0    Avery Bradley  7730337.0           Texas\n",
      "8     Terry Rozier  1824360.0      Louisville\n",
      "9     Marcus Smart  3431040.0  Oklahoma State\n",
      "11   Isaiah Thomas  6912869.0      Washington\n",
      "19    Jarrett Jack  6300000.0    Georgia Tech\n",
      "..             ...        ...             ...\n",
      "440  Brian Roberts  2854940.0          Dayton\n",
      "443     Trey Burke  2658240.0        Michigan\n",
      "445     Dante Exum  3777720.0             NaN\n",
      "453   Shelvin Mack  2433333.0          Butler\n",
      "454      Raul Neto   900000.0             NaN\n",
      "\n",
      "[92 rows x 3 columns]\n",
      "\n",
      "\n",
      "Employees in position: SF\n",
      "                       Name      Salary        College\n",
      "1               Jae Crowder   6796117.0      Marquette\n",
      "32   Thanasis Antetokounmpo     30888.0            NaN\n",
      "33          Carmelo Anthony  22875000.0       Syracuse\n",
      "35         Cleanthony Early    845059.0  Wichita State\n",
      "42             Lance Thomas   1636842.0           Duke\n",
      "..                      ...         ...            ...\n",
      "428         Al-Farouq Aminu   8042895.0    Wake Forest\n",
      "432        Maurice Harkless   2894059.0     St. John's\n",
      "448          Gordon Hayward  15409570.0         Butler\n",
      "450              Joe Ingles   2050000.0            NaN\n",
      "451           Chris Johnson    981348.0         Dayton\n",
      "\n",
      "[85 rows x 3 columns]\n",
      "\n",
      "\n",
      "Employees in position: SG\n",
      "                 Name     Salary            College\n",
      "2        John Holland        NaN  Boston University\n",
      "3         R.J. Hunter  1148640.0      Georgia State\n",
      "12        Evan Turner  3425510.0         Ohio State\n",
      "13        James Young  1749840.0           Kentucky\n",
      "15   Bojan Bogdanovic  3425510.0                NaN\n",
      "..                ...        ...                ...\n",
      "433  Gerald Henderson  6000000.0               Duke\n",
      "437     C.J. McCollum  2525160.0             Lehigh\n",
      "438      Luis Montero   525093.0     Westchester CC\n",
      "444        Alec Burks  9463484.0           Colorado\n",
      "449       Rodney Hood  1348440.0               Duke\n",
      "\n",
      "[102 rows x 3 columns]\n",
      "\n",
      "\n"
     ]
    }
   ],
   "source": [
    "# Group the dataset by the \"Position\" column\n",
    "position_groups = data.groupby('Position')\n",
    "\n",
    "# Iterate over each group and display the employees in each position\n",
    "for position, group_data in position_groups:\n",
    "    print(\"Employees in position:\", position)\n",
    "    print(group_data[['Name', 'Salary', 'College']])\n",
    "    print(\"\\n\")"
   ]
  },
  {
   "cell_type": "code",
   "execution_count": null,
   "id": "7e083119-44eb-4dd6-9da1-c3330e589f4f",
   "metadata": {},
   "outputs": [],
   "source": [
    "#Q3.Find from which age group most of the employees belong to."
   ]
  },
  {
   "cell_type": "code",
   "execution_count": 50,
   "id": "6310e06d-f3bf-4cc1-acd2-2ecb8ee4ffbc",
   "metadata": {},
   "outputs": [
    {
     "name": "stdout",
     "output_type": "stream",
     "text": [
      "Age group with the highest number of employees: 20-29\n",
      "Number of employees in this age group: 334\n"
     ]
    }
   ],
   "source": [
    "# Define age groups\n",
    "age_bins = [20, 30, 40, 50, 60, 70, 80, 90]  \n",
    "age_labels = ['20-29', '30-39', '40-49', '50-59', '60-69', '70-79', '80-89']\n",
    "\n",
    "# Bin the ages of employees into age groups\n",
    "data['Age_Group'] = pd.cut(data['Age'], bins=age_bins, labels=age_labels, right=False)\n",
    "\n",
    "# Count the number of employees in each age group\n",
    "age_group_counts = data['Age_Group'].value_counts()\n",
    "\n",
    "# Find the age group with the highest number of employees\n",
    "most_common_age_group = age_group_counts.idxmax()\n",
    "highest_employee_count = age_group_counts.max()\n",
    "\n",
    "# Display the result\n",
    "print(\"Age group with the highest number of employees:\", most_common_age_group)\n",
    "print(\"Number of employees in this age group:\", highest_employee_count)"
   ]
  },
  {
   "cell_type": "code",
   "execution_count": 51,
   "id": "976d995f-5828-4fe4-b057-9b4c419b5524",
   "metadata": {},
   "outputs": [
    {
     "data": {
      "text/html": [
       "<div>\n",
       "<style scoped>\n",
       "    .dataframe tbody tr th:only-of-type {\n",
       "        vertical-align: middle;\n",
       "    }\n",
       "\n",
       "    .dataframe tbody tr th {\n",
       "        vertical-align: top;\n",
       "    }\n",
       "\n",
       "    .dataframe thead th {\n",
       "        text-align: right;\n",
       "    }\n",
       "</style>\n",
       "<table border=\"1\" class=\"dataframe\">\n",
       "  <thead>\n",
       "    <tr style=\"text-align: right;\">\n",
       "      <th></th>\n",
       "      <th>Name</th>\n",
       "      <th>Team</th>\n",
       "      <th>Number</th>\n",
       "      <th>Position</th>\n",
       "      <th>Age</th>\n",
       "      <th>Height</th>\n",
       "      <th>Weight</th>\n",
       "      <th>College</th>\n",
       "      <th>Salary</th>\n",
       "      <th>height</th>\n",
       "      <th>Age_Group</th>\n",
       "    </tr>\n",
       "  </thead>\n",
       "  <tbody>\n",
       "    <tr>\n",
       "      <th>0</th>\n",
       "      <td>Avery Bradley</td>\n",
       "      <td>Boston Celtics</td>\n",
       "      <td>0</td>\n",
       "      <td>PG</td>\n",
       "      <td>25</td>\n",
       "      <td>180</td>\n",
       "      <td>180</td>\n",
       "      <td>Texas</td>\n",
       "      <td>7730337.0</td>\n",
       "      <td>156</td>\n",
       "      <td>20-29</td>\n",
       "    </tr>\n",
       "    <tr>\n",
       "      <th>1</th>\n",
       "      <td>Jae Crowder</td>\n",
       "      <td>Boston Celtics</td>\n",
       "      <td>99</td>\n",
       "      <td>SF</td>\n",
       "      <td>25</td>\n",
       "      <td>170</td>\n",
       "      <td>235</td>\n",
       "      <td>Marquette</td>\n",
       "      <td>6796117.0</td>\n",
       "      <td>169</td>\n",
       "      <td>20-29</td>\n",
       "    </tr>\n",
       "    <tr>\n",
       "      <th>2</th>\n",
       "      <td>John Holland</td>\n",
       "      <td>Boston Celtics</td>\n",
       "      <td>30</td>\n",
       "      <td>SG</td>\n",
       "      <td>27</td>\n",
       "      <td>171</td>\n",
       "      <td>205</td>\n",
       "      <td>Boston University</td>\n",
       "      <td>NaN</td>\n",
       "      <td>156</td>\n",
       "      <td>20-29</td>\n",
       "    </tr>\n",
       "    <tr>\n",
       "      <th>3</th>\n",
       "      <td>R.J. Hunter</td>\n",
       "      <td>Boston Celtics</td>\n",
       "      <td>28</td>\n",
       "      <td>SG</td>\n",
       "      <td>22</td>\n",
       "      <td>177</td>\n",
       "      <td>185</td>\n",
       "      <td>Georgia State</td>\n",
       "      <td>1148640.0</td>\n",
       "      <td>156</td>\n",
       "      <td>20-29</td>\n",
       "    </tr>\n",
       "    <tr>\n",
       "      <th>4</th>\n",
       "      <td>Jonas Jerebko</td>\n",
       "      <td>Boston Celtics</td>\n",
       "      <td>8</td>\n",
       "      <td>PF</td>\n",
       "      <td>29</td>\n",
       "      <td>154</td>\n",
       "      <td>231</td>\n",
       "      <td>NaN</td>\n",
       "      <td>5000000.0</td>\n",
       "      <td>151</td>\n",
       "      <td>20-29</td>\n",
       "    </tr>\n",
       "    <tr>\n",
       "      <th>...</th>\n",
       "      <td>...</td>\n",
       "      <td>...</td>\n",
       "      <td>...</td>\n",
       "      <td>...</td>\n",
       "      <td>...</td>\n",
       "      <td>...</td>\n",
       "      <td>...</td>\n",
       "      <td>...</td>\n",
       "      <td>...</td>\n",
       "      <td>...</td>\n",
       "      <td>...</td>\n",
       "    </tr>\n",
       "    <tr>\n",
       "      <th>453</th>\n",
       "      <td>Shelvin Mack</td>\n",
       "      <td>Utah Jazz</td>\n",
       "      <td>8</td>\n",
       "      <td>PG</td>\n",
       "      <td>26</td>\n",
       "      <td>170</td>\n",
       "      <td>203</td>\n",
       "      <td>Butler</td>\n",
       "      <td>2433333.0</td>\n",
       "      <td>164</td>\n",
       "      <td>20-29</td>\n",
       "    </tr>\n",
       "    <tr>\n",
       "      <th>454</th>\n",
       "      <td>Raul Neto</td>\n",
       "      <td>Utah Jazz</td>\n",
       "      <td>25</td>\n",
       "      <td>PG</td>\n",
       "      <td>24</td>\n",
       "      <td>162</td>\n",
       "      <td>179</td>\n",
       "      <td>NaN</td>\n",
       "      <td>900000.0</td>\n",
       "      <td>172</td>\n",
       "      <td>20-29</td>\n",
       "    </tr>\n",
       "    <tr>\n",
       "      <th>455</th>\n",
       "      <td>Tibor Pleiss</td>\n",
       "      <td>Utah Jazz</td>\n",
       "      <td>21</td>\n",
       "      <td>C</td>\n",
       "      <td>26</td>\n",
       "      <td>156</td>\n",
       "      <td>256</td>\n",
       "      <td>NaN</td>\n",
       "      <td>2900000.0</td>\n",
       "      <td>177</td>\n",
       "      <td>20-29</td>\n",
       "    </tr>\n",
       "    <tr>\n",
       "      <th>456</th>\n",
       "      <td>Jeff Withey</td>\n",
       "      <td>Utah Jazz</td>\n",
       "      <td>24</td>\n",
       "      <td>C</td>\n",
       "      <td>26</td>\n",
       "      <td>178</td>\n",
       "      <td>231</td>\n",
       "      <td>Kansas</td>\n",
       "      <td>947276.0</td>\n",
       "      <td>163</td>\n",
       "      <td>20-29</td>\n",
       "    </tr>\n",
       "    <tr>\n",
       "      <th>457</th>\n",
       "      <td>Priyanka</td>\n",
       "      <td>Utah Jazz</td>\n",
       "      <td>34</td>\n",
       "      <td>C</td>\n",
       "      <td>25</td>\n",
       "      <td>159</td>\n",
       "      <td>231</td>\n",
       "      <td>Kansas</td>\n",
       "      <td>947276.0</td>\n",
       "      <td>164</td>\n",
       "      <td>20-29</td>\n",
       "    </tr>\n",
       "  </tbody>\n",
       "</table>\n",
       "<p>458 rows × 11 columns</p>\n",
       "</div>"
      ],
      "text/plain": [
       "              Name            Team  Number Position  Age  Height  Weight  \\\n",
       "0    Avery Bradley  Boston Celtics       0       PG   25     180     180   \n",
       "1      Jae Crowder  Boston Celtics      99       SF   25     170     235   \n",
       "2     John Holland  Boston Celtics      30       SG   27     171     205   \n",
       "3      R.J. Hunter  Boston Celtics      28       SG   22     177     185   \n",
       "4    Jonas Jerebko  Boston Celtics       8       PF   29     154     231   \n",
       "..             ...             ...     ...      ...  ...     ...     ...   \n",
       "453   Shelvin Mack       Utah Jazz       8       PG   26     170     203   \n",
       "454      Raul Neto       Utah Jazz      25       PG   24     162     179   \n",
       "455   Tibor Pleiss       Utah Jazz      21        C   26     156     256   \n",
       "456    Jeff Withey       Utah Jazz      24        C   26     178     231   \n",
       "457       Priyanka       Utah Jazz      34        C   25     159     231   \n",
       "\n",
       "               College     Salary  height Age_Group  \n",
       "0                Texas  7730337.0     156     20-29  \n",
       "1            Marquette  6796117.0     169     20-29  \n",
       "2    Boston University        NaN     156     20-29  \n",
       "3        Georgia State  1148640.0     156     20-29  \n",
       "4                  NaN  5000000.0     151     20-29  \n",
       "..                 ...        ...     ...       ...  \n",
       "453             Butler  2433333.0     164     20-29  \n",
       "454                NaN   900000.0     172     20-29  \n",
       "455                NaN  2900000.0     177     20-29  \n",
       "456             Kansas   947276.0     163     20-29  \n",
       "457             Kansas   947276.0     164     20-29  \n",
       "\n",
       "[458 rows x 11 columns]"
      ]
     },
     "execution_count": 51,
     "metadata": {},
     "output_type": "execute_result"
    }
   ],
   "source": [
    "data['Age_Group'] = pd.cut(data['Age'], bins=age_bins, labels=age_labels, right=False)\n",
    "data"
   ]
  },
  {
   "cell_type": "code",
   "execution_count": 52,
   "id": "9e440e44-bc10-4f5b-a42d-4e51e58c8f62",
   "metadata": {},
   "outputs": [
    {
     "data": {
      "text/plain": [
       "Age_Group\n",
       "20-29    334\n",
       "30-39    119\n",
       "40-49      3\n",
       "50-59      0\n",
       "60-69      0\n",
       "70-79      0\n",
       "80-89      0\n",
       "Name: count, dtype: int64"
      ]
     },
     "execution_count": 52,
     "metadata": {},
     "output_type": "execute_result"
    }
   ],
   "source": [
    "age_group_counts = data['Age_Group'].value_counts()\n",
    "age_group_counts"
   ]
  },
  {
   "cell_type": "code",
   "execution_count": 54,
   "id": "04d87960-60c0-440b-9135-bc6952e49f85",
   "metadata": {},
   "outputs": [
    {
     "data": {
      "text/plain": [
       "'20-29'"
      ]
     },
     "execution_count": 54,
     "metadata": {},
     "output_type": "execute_result"
    }
   ],
   "source": [
    "most_common_age_group = age_group_counts.idxmax()\n",
    "most_common_age_group\n"
   ]
  },
  {
   "cell_type": "code",
   "execution_count": 55,
   "id": "b2c92f8b-599f-4fa4-ad3f-916855c0f940",
   "metadata": {},
   "outputs": [
    {
     "data": {
      "text/plain": [
       "334"
      ]
     },
     "execution_count": 55,
     "metadata": {},
     "output_type": "execute_result"
    }
   ],
   "source": [
    "highest_employee_count = age_group_counts.max()\n",
    "highest_employee_count"
   ]
  },
  {
   "cell_type": "code",
   "execution_count": 56,
   "id": "1f25a6ea-c81c-492e-95df-cf1e4a279f93",
   "metadata": {},
   "outputs": [
    {
     "name": "stdout",
     "output_type": "stream",
     "text": [
      "Age group with the highest number of employees: 20-29\n",
      "Number of employees in this age group: 334\n"
     ]
    }
   ],
   "source": [
    "print(\"Age group with the highest number of employees:\", most_common_age_group)\n",
    "print(\"Number of employees in this age group:\", highest_employee_count)"
   ]
  },
  {
   "cell_type": "code",
   "execution_count": null,
   "id": "2bc8bd9b-6955-4ca4-bf9d-901d984cc45b",
   "metadata": {},
   "outputs": [],
   "source": [
    "#Q4.Find out under which team and position, spending in terms of salary is high."
   ]
  },
  {
   "cell_type": "code",
   "execution_count": null,
   "id": "56c8f22d-3d73-4667-922f-9ffa1325b78c",
   "metadata": {},
   "outputs": [],
   "source": [
    "#There is question will be asked that if there are null values, what will be do?\n",
    "#There are three ways can we solve this issue.\n",
    "#1.Remove rows with null values: If the number of rows with null values is\n",
    "     #relatively small compared to the total dataset size, you may choose to remove these rows.\n",
    "\n",
    "#2.Impute null values: You can fill null values with a specific value, such as the mean, median, or \n",
    "  #mode of the salary column, depending on the distribution of the data.\n",
    "\n",
    "#3.Ignore null values: You can choose to ignore rows with null values when performing calculations.\n",
    "\n",
    "#Here am going with 3rd option, because, here is to find out highest salary. \n",
    "        #Assuming that the given salaries have the gretest one and if assign any value, \n",
    "        #that will be lessthan that of the given data.\n",
    "#hence the ans is;"
   ]
  },
  {
   "cell_type": "code",
   "execution_count": 58,
   "id": "45e793ee-8268-42d4-b603-7efd3231d7ca",
   "metadata": {},
   "outputs": [
    {
     "name": "stdout",
     "output_type": "stream",
     "text": [
      "Team and position with the highest salary spending:\n",
      "Team: Los Angeles Lakers\n",
      "Position: SF\n",
      "Total salary spending in this team and position: 31866445.0\n"
     ]
    }
   ],
   "source": [
    "# Group the dataset by both \"Team\" and \"Position\" columns and sum up the salary for each group\n",
    "team_position_salary = data.groupby(['Team', 'Position'])['Salary'].sum()\n",
    "\n",
    "# Identify the team and position where the spending in terms of salary is highest\n",
    "highest_spending_team_position = team_position_salary.idxmax()\n",
    "highest_salary_spending = team_position_salary.max()\n",
    "\n",
    "# Display the result\n",
    "print(\"Team and position with the highest salary spending:\")\n",
    "print(\"Team:\", highest_spending_team_position[0])\n",
    "print(\"Position:\", highest_spending_team_position[1])\n",
    "print(\"Total salary spending in this team and position:\", highest_salary_spending)\n"
   ]
  },
  {
   "cell_type": "code",
   "execution_count": 59,
   "id": "676972a2-631f-4dc4-9f56-11369b4ba166",
   "metadata": {},
   "outputs": [
    {
     "data": {
      "text/plain": [
       "Team                Position\n",
       "Atlanta Hawks       C           22756250.0\n",
       "                    PF          23952268.0\n",
       "                    PG           9763400.0\n",
       "                    SF           6000000.0\n",
       "                    SG          10431032.0\n",
       "                                   ...    \n",
       "Washington Wizards  C           24490429.0\n",
       "                    PF          11300000.0\n",
       "                    PG          18022415.0\n",
       "                    SF          11158800.0\n",
       "                    SG          11356992.0\n",
       "Name: Salary, Length: 149, dtype: float64"
      ]
     },
     "execution_count": 59,
     "metadata": {},
     "output_type": "execute_result"
    }
   ],
   "source": [
    "team_position_salary = data.groupby(['Team', 'Position'])['Salary'].sum()\n",
    "team_position_salary"
   ]
  },
  {
   "cell_type": "code",
   "execution_count": 60,
   "id": "e5a70f91-6eb0-47bc-9409-76b5fe353953",
   "metadata": {},
   "outputs": [
    {
     "data": {
      "text/plain": [
       "('Los Angeles Lakers', 'SF')"
      ]
     },
     "execution_count": 60,
     "metadata": {},
     "output_type": "execute_result"
    }
   ],
   "source": [
    "highest_spending_team_position = team_position_salary.idxmax()\n",
    "highest_spending_team_position"
   ]
  },
  {
   "cell_type": "code",
   "execution_count": 61,
   "id": "f6f94c88-11a5-4de9-a4a8-5a82822cfa7f",
   "metadata": {},
   "outputs": [
    {
     "data": {
      "text/plain": [
       "31866445.0"
      ]
     },
     "execution_count": 61,
     "metadata": {},
     "output_type": "execute_result"
    }
   ],
   "source": [
    "highest_salary_spending = team_position_salary.max()\n",
    "highest_salary_spending"
   ]
  },
  {
   "cell_type": "code",
   "execution_count": 64,
   "id": "6236566e-db4e-4574-b524-3b275e3da270",
   "metadata": {},
   "outputs": [
    {
     "name": "stdout",
     "output_type": "stream",
     "text": [
      "Team and position with the highest salary spending:\n",
      "Team: Los Angeles Lakers\n",
      "Position: SF\n",
      "Total salary spending in this team and position: 31866445.0\n"
     ]
    }
   ],
   "source": [
    "print(\"Team and position with the highest salary spending:\")\n",
    "print(\"Team:\", highest_spending_team_position[0])\n",
    "print(\"Position:\", highest_spending_team_position[1])\n",
    "print(\"Total salary spending in this team and position:\", highest_salary_spending)\n"
   ]
  },
  {
   "cell_type": "code",
   "execution_count": null,
   "id": "369400f9-acf8-43da-8cdc-57f080c29831",
   "metadata": {},
   "outputs": [],
   "source": [
    "#Q5.Find if there is any correlation between age and salary , represent it visually."
   ]
  },
  {
   "cell_type": "code",
   "execution_count": 10,
   "id": "479c5bbd-bc7a-44f8-b849-ec5e728cafdd",
   "metadata": {},
   "outputs": [
    {
     "data": {
      "image/png": "[encoded data removed]",
      "text/plain": [
       "<Figure size 400x500 with 1 Axes>"
      ]
     },
     "metadata": {},
     "output_type": "display_data"
    }
   ],
   "source": [
    "import matplotlib.pyplot as plt\n",
    "import seaborn as sns\n",
    "\n",
    "# Plot a scatter plot to visualize the relationship between age and salary\n",
    "plt.figure(figsize=(4, 5))\n",
    "sns.scatterplot(x='Age', y='Salary', data=data)\n",
    "plt.title('Relationship between Age and Salary')\n",
    "plt.xlabel('Age')\n",
    "plt.ylabel('Salary')\n",
    "plt.grid(True)\n",
    "plt.show()\n"
   ]
  },
  {
   "cell_type": "code",
   "execution_count": null,
   "id": "3cebc680-6dbc-4a71-82be-505d8c0dc1b9",
   "metadata": {},
   "outputs": [],
   "source": [
    "#Here's how you can add a regression line to the scatter plot:"
   ]
  },
  {
   "cell_type": "code",
   "execution_count": 67,
   "id": "38db0bd4-3dce-40ec-97fd-b554528382bd",
   "metadata": {},
   "outputs": [
    {
     "data": {
      "image/png": "[encoded data removed]",
      "text/plain": [
       "<Figure size 500x600 with 1 Axes>"
      ]
     },
     "metadata": {},
     "output_type": "display_data"
    }
   ],
   "source": [
    "# Plot a scatter plot with a regression line\n",
    "plt.figure(figsize=(5, 6))\n",
    "sns.regplot(x='Age', y='Salary', data=data)\n",
    "plt.title('Relationship between Age and Salary')\n",
    "plt.xlabel('Age')\n",
    "plt.ylabel('Salary')\n",
    "plt.grid(True)\n",
    "plt.show()"
   ]
  },
  {
   "cell_type": "code",
   "execution_count": null,
   "id": "ad94d28a-9416-4a0a-9006-be5aa7350ada",
   "metadata": {},
   "outputs": [],
   "source": [
    "\n",
    "\n",
    "\n",
    "#The scatter plot with regression line indicates a moderate positive correlation between age and salary, suggesting that, on average, \n",
    "#as age increases, salary tends to increase as well. However, there are notable variations in salary for individuals of the same age.\n",
    "\n"
   ]
  },
  {
   "cell_type": "code",
   "execution_count": null,
   "id": "c0617641-8e70-43d4-8500-55baed72ed35",
   "metadata": {},
   "outputs": [],
   "source": []
  },
  {
   "cell_type": "code",
   "execution_count": null,
   "id": "0bd98b58-06a8-4a7a-a2e9-0d92615290b6",
   "metadata": {},
   "outputs": [],
   "source": []
  }
 ],
 "metadata": {
  "kernelspec": {
   "display_name": "Python 3 (ipykernel)",
   "language": "python",
   "name": "python3"
  },
  "language_info": {
   "codemirror_mode": {
    "name": "ipython",
    "version": 3
   },
   "file_extension": ".py",
   "mimetype": "text/x-python",
   "name": "python",
   "nbconvert_exporter": "python",
   "pygments_lexer": "ipython3",
   "version": "3.12.1"
  }
 },
 "nbformat": 4,
 "nbformat_minor": 5
}
